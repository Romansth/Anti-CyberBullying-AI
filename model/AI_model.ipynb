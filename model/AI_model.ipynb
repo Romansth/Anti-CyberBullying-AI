{
  "nbformat": 4,
  "nbformat_minor": 0,
  "metadata": {
    "colab": {
      "name": "AI model.ipynb",
      "provenance": [],
      "collapsed_sections": [],
      "include_colab_link": true
    },
    "kernelspec": {
      "name": "python3",
      "display_name": "Python 3"
    }
  },
  "cells": [
    {
      "cell_type": "markdown",
      "metadata": {
        "id": "view-in-github",
        "colab_type": "text"
      },
      "source": [
        "<a href=\"https://colab.research.google.com/github/Prasun-Shiwakoti/Anti-CyberBullying/blob/master/model/AI_model.ipynb\" target=\"_parent\"><img src=\"https://colab.research.google.com/assets/colab-badge.svg\" alt=\"Open In Colab\"/></a>"
      ]
    },
    {
      "cell_type": "code",
      "metadata": {
        "id": "MBGy8j2IwzRK",
        "colab_type": "code",
        "colab": {
          "base_uri": "https://localhost:8080/",
          "height": 72
        },
        "outputId": "750c6db3-315d-428e-e293-4dbb77495ab9"
      },
      "source": [
        "import pandas as pd\n",
        "import numpy as np\n",
        "import seaborn as sns"
      ],
      "execution_count": null,
      "outputs": [
        {
          "output_type": "stream",
          "text": [
            "/usr/local/lib/python3.6/dist-packages/statsmodels/tools/_testing.py:19: FutureWarning: pandas.util.testing is deprecated. Use the functions in the public API at pandas.testing instead.\n",
            "  import pandas.util.testing as tm\n"
          ],
          "name": "stderr"
        }
      ]
    },
    {
      "cell_type": "code",
      "metadata": {
        "id": "NM0dkAetx2kp",
        "colab_type": "code",
        "colab": {}
      },
      "source": [
        "df_new = pd.read_csv('new')"
      ],
      "execution_count": null,
      "outputs": []
    },
    {
      "cell_type": "code",
      "metadata": {
        "id": "sb3Xh2th7guJ",
        "colab_type": "code",
        "colab": {}
      },
      "source": [
        "df_new['length'] = df_new['message'].apply(len)"
      ],
      "execution_count": null,
      "outputs": []
    },
    {
      "cell_type": "code",
      "metadata": {
        "id": "ErB4A0G_gelH",
        "colab_type": "code",
        "colab": {}
      },
      "source": [
        "messages=df_new['message'].tolist()\n",
        "label = df_new['label'].tolist()"
      ],
      "execution_count": null,
      "outputs": []
    },
    {
      "cell_type": "code",
      "metadata": {
        "id": "O5407q3G-wR8",
        "colab_type": "code",
        "colab": {}
      },
      "source": [
        "vocab_size=16049\n",
        "embedding_dim=16\n",
        "max_length=150\n",
        "truc_type='post'\n",
        "padding_type='post'\n",
        "oov_tok=\"<OOV>\"\n",
        "training_size=10000"
      ],
      "execution_count": null,
      "outputs": []
    },
    {
      "cell_type": "code",
      "metadata": {
        "id": "otrEcb1EGb9p",
        "colab_type": "code",
        "colab": {}
      },
      "source": [
        "import tensorflow as tf\n",
        "from tensorflow.keras.preprocessing.text import Tokenizer\n",
        "from tensorflow.keras.preprocessing.sequence import pad_sequences\n",
        "from sklearn.model_selection import train_test_split\n",
        "from sklearn.metrics import confusion_matrix\n",
        "from sklearn.metrics import f1_score"
      ],
      "execution_count": null,
      "outputs": []
    },
    {
      "cell_type": "code",
      "metadata": {
        "id": "c1tnjR5vMJQU",
        "colab_type": "code",
        "colab": {}
      },
      "source": [
        "training_sentences,testing_sentences,training_labels,testing_labels = train_test_split(messages, label, test_size = 0.3)"
      ],
      "execution_count": null,
      "outputs": []
    },
    {
      "cell_type": "code",
      "metadata": {
        "id": "wTPh3FAENm-f",
        "colab_type": "code",
        "colab": {}
      },
      "source": [
        "tokenizer = Tokenizer(num_words = vocab_size,oov_token=oov_tok)\n",
        "tokenizer.fit_on_texts(training_sentences)\n",
        "word_index= tokenizer.word_index"
      ],
      "execution_count": null,
      "outputs": []
    },
    {
      "cell_type": "code",
      "metadata": {
        "id": "fXe5NrJdO8A7",
        "colab_type": "code",
        "colab": {}
      },
      "source": [
        "training_sequences = tokenizer.texts_to_sequences(training_sentences)\n",
        "training_padded = pad_sequences(training_sequences,maxlen=max_length,padding=padding_type,truncating=truc_type)"
      ],
      "execution_count": null,
      "outputs": []
    },
    {
      "cell_type": "code",
      "metadata": {
        "id": "ZlcLqwOsSAkr",
        "colab_type": "code",
        "colab": {}
      },
      "source": [
        "testing_sequences = tokenizer.texts_to_sequences(testing_sentences)\n",
        "testing_padded = pad_sequences(testing_sequences,maxlen=max_length,padding=padding_type,truncating=truc_type)"
      ],
      "execution_count": null,
      "outputs": []
    },
    {
      "cell_type": "code",
      "metadata": {
        "id": "-s4FEiFcUZ2j",
        "colab_type": "code",
        "colab": {}
      },
      "source": [
        "training_padded = np.array(training_padded)\n",
        "training_labels = np.array(training_labels)\n",
        "testing_padded = np.array(testing_padded)\n",
        "testing_labels = np.array(testing_labels)"
      ],
      "execution_count": null,
      "outputs": []
    },
    {
      "cell_type": "code",
      "metadata": {
        "id": "rdblQTIxKIVf",
        "colab_type": "code",
        "colab": {}
      },
      "source": [
        "from tensorflow.keras.callbacks import EarlyStopping\n",
        "early_stop=EarlyStopping(monitor='val_loss',mode='min',verbose=1,patience=25)"
      ],
      "execution_count": null,
      "outputs": []
    },
    {
      "cell_type": "code",
      "metadata": {
        "id": "0ggtNEArLbzg",
        "colab_type": "code",
        "colab": {}
      },
      "source": [
        "from tensorflow.keras.layers import Dropout"
      ],
      "execution_count": null,
      "outputs": []
    },
    {
      "cell_type": "code",
      "metadata": {
        "id": "E27c2I6nJvmR",
        "colab_type": "code",
        "colab": {}
      },
      "source": [
        "model= tf.keras.Sequential([\n",
        "tf.keras.layers.Embedding(vocab_size,embedding_dim,input_length=max_length),\n",
        "tf.keras.layers.GlobalAveragePooling1D(),\n",
        "tf.keras.layers.Dense(24,activation='relu'),\n",
        "tf.keras.layers.Dropout(0.5),\n",
        "tf.keras.layers.Dense(12,activation='relu'),\n",
        "tf.keras.layers.Dropout(0.5),\n",
        "tf.keras.layers.Dense(1,activation='sigmoid')\n",
        " \n",
        "])"
      ],
      "execution_count": null,
      "outputs": []
    },
    {
      "cell_type": "code",
      "metadata": {
        "id": "thlrib-wLErC",
        "colab_type": "code",
        "colab": {}
      },
      "source": [
        " model.compile(loss='binary_crossentropy',optimizer='adam',metrics=['accuracy'])"
      ],
      "execution_count": null,
      "outputs": []
    },
    {
      "cell_type": "code",
      "metadata": {
        "id": "OjMuoeHpLM0Q",
        "colab_type": "code",
        "colab": {
          "base_uri": "https://localhost:8080/",
          "height": 488
        },
        "outputId": "5bb36ffd-046d-4bd0-a2e9-919707ac5316"
      },
      "source": [
        "num_epochs=13\n",
        "history= model.fit(training_padded,training_labels,epochs=num_epochs,validation_data=(testing_padded,testing_labels),callbacks=[early_stop])"
      ],
      "execution_count": null,
      "outputs": [
        {
          "output_type": "stream",
          "text": [
            "Epoch 1/13\n",
            "361/361 [==============================] - 2s 6ms/step - loss: 0.6494 - accuracy: 0.6675 - val_loss: 0.6345 - val_accuracy: 0.6685\n",
            "Epoch 2/13\n",
            "361/361 [==============================] - 2s 6ms/step - loss: 0.6341 - accuracy: 0.6679 - val_loss: 0.6148 - val_accuracy: 0.6685\n",
            "Epoch 3/13\n",
            "361/361 [==============================] - 2s 6ms/step - loss: 0.5613 - accuracy: 0.7187 - val_loss: 0.4773 - val_accuracy: 0.8044\n",
            "Epoch 4/13\n",
            "361/361 [==============================] - 2s 6ms/step - loss: 0.4440 - accuracy: 0.8064 - val_loss: 0.4114 - val_accuracy: 0.8151\n",
            "Epoch 5/13\n",
            "361/361 [==============================] - 2s 6ms/step - loss: 0.3698 - accuracy: 0.8437 - val_loss: 0.4076 - val_accuracy: 0.8244\n",
            "Epoch 6/13\n",
            "361/361 [==============================] - 2s 6ms/step - loss: 0.3190 - accuracy: 0.8766 - val_loss: 0.3888 - val_accuracy: 0.8222\n",
            "Epoch 7/13\n",
            "361/361 [==============================] - 2s 6ms/step - loss: 0.2715 - accuracy: 0.8992 - val_loss: 0.3999 - val_accuracy: 0.8402\n",
            "Epoch 8/13\n",
            "361/361 [==============================] - 2s 6ms/step - loss: 0.2401 - accuracy: 0.9123 - val_loss: 0.4386 - val_accuracy: 0.8277\n",
            "Epoch 9/13\n",
            "361/361 [==============================] - 2s 6ms/step - loss: 0.2174 - accuracy: 0.9253 - val_loss: 0.4258 - val_accuracy: 0.8382\n",
            "Epoch 10/13\n",
            "361/361 [==============================] - 2s 6ms/step - loss: 0.1945 - accuracy: 0.9346 - val_loss: 0.4502 - val_accuracy: 0.8250\n",
            "Epoch 11/13\n",
            "361/361 [==============================] - 2s 6ms/step - loss: 0.1792 - accuracy: 0.9385 - val_loss: 0.4869 - val_accuracy: 0.8400\n",
            "Epoch 12/13\n",
            "361/361 [==============================] - 2s 6ms/step - loss: 0.1626 - accuracy: 0.9462 - val_loss: 0.5544 - val_accuracy: 0.8220\n",
            "Epoch 13/13\n",
            "361/361 [==============================] - 2s 6ms/step - loss: 0.1478 - accuracy: 0.9505 - val_loss: 0.5390 - val_accuracy: 0.8250\n"
          ],
          "name": "stdout"
        }
      ]
    },
    {
      "cell_type": "code",
      "metadata": {
        "id": "UN0hY_3NWfJJ",
        "colab_type": "code",
        "colab": {
          "base_uri": "https://localhost:8080/",
          "height": 107
        },
        "outputId": "c9261a5b-e544-4f97-b2ab-916c1eebda7d"
      },
      "source": [
        "preds = model.predict_classes(testing_padded)"
      ],
      "execution_count": null,
      "outputs": [
        {
          "output_type": "stream",
          "text": [
            "WARNING:tensorflow:From <ipython-input-18-3a069513b469>:1: Sequential.predict_classes (from tensorflow.python.keras.engine.sequential) is deprecated and will be removed after 2021-01-01.\n",
            "Instructions for updating:\n",
            "Please use instead:* `np.argmax(model.predict(x), axis=-1)`,   if your model does multi-class classification   (e.g. if it uses a `softmax` last-layer activation).* `(model.predict(x) > 0.5).astype(\"int32\")`,   if your model does binary classification   (e.g. if it uses a `sigmoid` last-layer activation).\n",
            "0.7548880702748654\n"
          ],
          "name": "stdout"
        }
      ]
    },
    {
      "cell_type": "code",
      "metadata": {
        "id": "Adw5iQWfOBdT",
        "colab_type": "code",
        "colab": {}
      },
      "source": [
        "model_loss=pd.DataFrame(model.history.history)\n",
        "model_loss.plot()"
      ],
      "execution_count": null,
      "outputs": []
    },
    {
      "cell_type": "code",
      "metadata": {
        "id": "Lt6KRoDqqQPD",
        "colab_type": "code",
        "colab": {
          "base_uri": "https://localhost:8080/",
          "height": 52
        },
        "outputId": "97b4a65e-5771-4315-d9b3-fdc3df455361"
      },
      "source": [
        "sentence = [\"Muslims are reponsible for all the deaths\",]\n",
        "sequences = tokenizer.texts_to_sequences(sentence)\n",
        "print(sequences)\n",
        "padded = pad_sequences(sequences, maxlen=max_length, padding=padding_type, truncating=truc_type)\n",
        "print(model.predict(padded))"
      ],
      "execution_count": null,
      "outputs": [
        {
          "output_type": "stream",
          "text": [
            "[[79, 17, 1, 21, 36, 2, 3481]]\n",
            "[[0.9357805]]\n"
          ],
          "name": "stdout"
        }
      ]
    },
    {
      "cell_type": "code",
      "metadata": {
        "id": "1RfWPFq1UiKz",
        "colab_type": "code",
        "colab": {}
      },
      "source": [
        "import pickle\n",
        " \n",
        "model.save(\"model.h5\")\n",
        " \n",
        "with open(\"tokenizer.pickle\", \"wb\") as f:\n",
        "  pickle.dump(tokenizer, f)"
      ],
      "execution_count": null,
      "outputs": []
    }
  ]
}